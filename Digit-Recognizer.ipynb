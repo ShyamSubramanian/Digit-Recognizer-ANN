{
 "cells": [
  {
   "cell_type": "code",
   "execution_count": 20,
   "metadata": {
    "colab": {
     "base_uri": "https://localhost:8080/",
     "height": 527
    },
    "colab_type": "code",
    "executionInfo": {
     "elapsed": 4084,
     "status": "ok",
     "timestamp": 1541091034079,
     "user": {
      "displayName": "Shyam Subramanian",
      "photoUrl": "",
      "userId": "08648789884609156572"
     },
     "user_tz": 240
    },
    "id": "xILJCQ82-9Jx",
    "outputId": "c06ac4ed-14e9-43b9-876c-a3bf6d0b6e13"
   },
   "outputs": [
    {
     "name": "stdout",
     "output_type": "stream",
     "text": [
      "Requirement already satisfied: keras in /usr/local/lib/python3.6/dist-packages (2.1.6)\n",
      "Requirement already satisfied: numpy in /usr/local/lib/python3.6/dist-packages (1.14.6)\n",
      "Requirement already satisfied: tensorflow in /usr/local/lib/python3.6/dist-packages (1.12.0rc2)\n",
      "Requirement already satisfied: pydot in /usr/local/lib/python3.6/dist-packages (1.2.4)\n",
      "Requirement already satisfied: graphviz in /usr/local/lib/python3.6/dist-packages (0.10.1)\n",
      "Requirement already satisfied: ann_visualizer in /usr/local/lib/python3.6/dist-packages (2.5)\n",
      "Requirement already satisfied: seaborn in /usr/local/lib/python3.6/dist-packages (0.7.1)\n",
      "Requirement already satisfied: six>=1.9.0 in /usr/local/lib/python3.6/dist-packages (from keras) (1.11.0)\n",
      "Requirement already satisfied: scipy>=0.14 in /usr/local/lib/python3.6/dist-packages (from keras) (0.19.1)\n",
      "Requirement already satisfied: pyyaml in /usr/local/lib/python3.6/dist-packages (from keras) (3.13)\n",
      "Requirement already satisfied: h5py in /usr/local/lib/python3.6/dist-packages (from keras) (2.8.0)\n",
      "Requirement already satisfied: termcolor>=1.1.0 in /usr/local/lib/python3.6/dist-packages (from tensorflow) (1.1.0)\n",
      "Requirement already satisfied: grpcio>=1.8.6 in /usr/local/lib/python3.6/dist-packages (from tensorflow) (1.15.0)\n",
      "Requirement already satisfied: wheel>=0.26 in /usr/local/lib/python3.6/dist-packages (from tensorflow) (0.32.2)\n",
      "Requirement already satisfied: keras-applications>=1.0.6 in /usr/local/lib/python3.6/dist-packages (from tensorflow) (1.0.6)\n",
      "Requirement already satisfied: absl-py>=0.1.6 in /usr/local/lib/python3.6/dist-packages (from tensorflow) (0.6.1)\n",
      "Requirement already satisfied: astor>=0.6.0 in /usr/local/lib/python3.6/dist-packages (from tensorflow) (0.7.1)\n",
      "Requirement already satisfied: keras-preprocessing>=1.0.5 in /usr/local/lib/python3.6/dist-packages (from tensorflow) (1.0.5)\n",
      "Requirement already satisfied: tensorboard<1.13.0,>=1.12.0 in /usr/local/lib/python3.6/dist-packages (from tensorflow) (1.12.0)\n",
      "Requirement already satisfied: gast>=0.2.0 in /usr/local/lib/python3.6/dist-packages (from tensorflow) (0.2.0)\n",
      "Requirement already satisfied: protobuf>=3.6.1 in /usr/local/lib/python3.6/dist-packages (from tensorflow) (3.6.1)\n",
      "Requirement already satisfied: pyparsing>=2.1.4 in /usr/local/lib/python3.6/dist-packages (from pydot) (2.3.0)\n",
      "Requirement already satisfied: werkzeug>=0.11.10 in /usr/local/lib/python3.6/dist-packages (from tensorboard<1.13.0,>=1.12.0->tensorflow) (0.14.1)\n",
      "Requirement already satisfied: markdown>=2.6.8 in /usr/local/lib/python3.6/dist-packages (from tensorboard<1.13.0,>=1.12.0->tensorflow) (3.0.1)\n",
      "Requirement already satisfied: setuptools in /usr/local/lib/python3.6/dist-packages (from protobuf>=3.6.1->tensorflow) (40.5.0)\n",
      "Reading package lists... Done\n",
      "Building dependency tree       \n",
      "Reading state information... Done\n",
      "E: Unable to locate package pydot\n"
     ]
    }
   ],
   "source": [
    "!pip install keras numpy tensorflow pydot graphviz ann_visualizer seaborn\n",
    "!apt-get install graphviz"
   ]
  },
  {
   "cell_type": "code",
   "execution_count": 0,
   "metadata": {
    "colab": {},
    "colab_type": "code",
    "id": "YOTjZdtk-9J3"
   },
   "outputs": [],
   "source": [
    "import numpy as np\n",
    "from tensorflow import set_random_seed\n",
    "import keras\n",
    "from keras.models import Sequential\n",
    "from keras.layers import Dense, Activation, BatchNormalization, Dropout\n",
    "from sklearn.metrics import accuracy_score, recall_score, precision_score, confusion_matrix\n",
    "from sklearn.model_selection import train_test_split\n",
    "import seaborn as sn\n",
    "import pandas as pd"
   ]
  },
  {
   "cell_type": "markdown",
   "metadata": {
    "colab_type": "text",
    "id": "GRQRlcbY-9J7"
   },
   "source": [
    "# Model Template"
   ]
  },
  {
   "cell_type": "code",
   "execution_count": 12,
   "metadata": {
    "colab": {
     "base_uri": "https://localhost:8080/",
     "height": 39,
     "resources": {
      "http://localhost:8080/nbextensions/google.colab/files.js": {
       "data": "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",
       "headers": [
        [
         "content-type",
         "application/javascript"
        ]
       ],
       "ok": true,
       "status": 200,
       "status_text": ""
      }
     }
    },
    "colab_type": "code",
    "executionInfo": {
     "elapsed": 2136,
     "status": "ok",
     "timestamp": 1541091591435,
     "user": {
      "displayName": "Shyam Subramanian",
      "photoUrl": "",
      "userId": "08648789884609156572"
     },
     "user_tz": 240
    },
    "id": "AKH2mPzx-9J_",
    "outputId": "70ea1a76-4339-42a7-fa98-b6a5d66bf5f1"
   },
   "outputs": [
    {
     "data": {
      "text/html": [
       "\n",
       "     <input type=\"file\" id=\"files-e38efffe-c472-4f53-95fd-c907a9838f0d\" name=\"files[]\" multiple disabled />\n",
       "     <output id=\"result-e38efffe-c472-4f53-95fd-c907a9838f0d\">\n",
       "      Upload widget is only available when the cell has been executed in the\n",
       "      current browser session. Please rerun this cell to enable.\n",
       "      </output>\n",
       "      <script src=\"/nbextensions/google.colab/files.js\"></script> "
      ],
      "text/plain": [
       "<IPython.core.display.HTML object>"
      ]
     },
     "metadata": {
      "tags": []
     },
     "output_type": "display_data"
    }
   ],
   "source": [
    "from google.colab import files\n",
    "uploaded = files.upload()"
   ]
  },
  {
   "cell_type": "code",
   "execution_count": 0,
   "metadata": {
    "colab": {},
    "colab_type": "code",
    "id": "tUGUmm1Wp9Wv"
   },
   "outputs": [],
   "source": [
    "def initialize_data():\n",
    "    image_file_name = r'images.npy'\n",
    "    label_file_name = r'labels.npy'\n",
    "    image_data = np.load(image_file_name)\n",
    "    label_data = np.load(label_file_name)\n",
    "    return image_data,label_data"
   ]
  },
  {
   "cell_type": "code",
   "execution_count": 0,
   "metadata": {
    "colab": {},
    "colab_type": "code",
    "id": "ZEcMmmNcp86u"
   },
   "outputs": [],
   "source": [
    "from sklearn.model_selection import train_test_split\n",
    "def preprocess_data(image_data,label_data):\n",
    "    image_data_pre = image_data.reshape(6500,784)\n",
    "    x_train2, x_test, y_train2, y_test = train_test_split(image_data_pre, label_data,\n",
    "                                                        test_size=0.25,\n",
    "                                                        stratify=label_data)\n",
    "    x_train, x_val, y_train, y_val = train_test_split(x_train2, y_train2,\n",
    "                                                        test_size=0.20,\n",
    "                                                        stratify=y_train2)\n",
    "    y_train_cat = keras.utils.to_categorical(y_train)\n",
    "    y_val_cat = keras.utils.to_categorical(y_val)\n",
    "    y_test_cat = keras.utils.to_categorical(y_test)\n",
    "    return x_train, x_val, x_test, y_train, y_val, y_test, y_train_cat, y_val_cat, y_test_cat"
   ]
  },
  {
   "cell_type": "code",
   "execution_count": 0,
   "metadata": {
    "colab": {},
    "colab_type": "code",
    "id": "oOD3YsF2p8Ik"
   },
   "outputs": [],
   "source": [
    "def experiments(x,y,x_val,y_val,layers,epochs=10,batch_size=512,optimizer='sgd'):\n",
    "    model = Sequential()\n",
    "    for layer in layers: model.add(layer)\n",
    "    model.compile(optimizer='sgd',\n",
    "              loss='categorical_crossentropy', \n",
    "              metrics=['accuracy'])\n",
    "    history = model.fit(x_train, y_train_cat,\n",
    "                    validation_data = (x_val, y_val_cat), \n",
    "                    epochs=epochs,\n",
    "                    batch_size=batch_size,\n",
    "                    verbose=1)\n",
    "    return model,history"
   ]
  },
  {
   "cell_type": "code",
   "execution_count": 0,
   "metadata": {
    "colab": {},
    "colab_type": "code",
    "id": "wyrCMKcCqWvy"
   },
   "outputs": [],
   "source": [
    "%matplotlib inline\n",
    "import matplotlib.pyplot as plt\n",
    "def plot(title,xlabel,ylabel,*plottables):\n",
    "    for plot_ in plottables:\n",
    "        plt.plot(plot_)\n",
    "    plt.title(title)\n",
    "    plt.ylabel(ylabel)\n",
    "    plt.xlabel(xlabel)\n",
    "    plt.legend(['train', 'test'], loc='upper left')\n",
    "    plt.show()"
   ]
  },
  {
   "cell_type": "code",
   "execution_count": 26,
   "metadata": {
    "colab": {
     "base_uri": "https://localhost:8080/",
     "height": 158
    },
    "colab_type": "code",
    "executionInfo": {
     "elapsed": 319,
     "status": "ok",
     "timestamp": 1541099019572,
     "user": {
      "displayName": "Shyam Subramanian",
      "photoUrl": "",
      "userId": "08648789884609156572"
     },
     "user_tz": 240
    },
    "id": "jmtdeTyXqcf6",
    "outputId": "6e7843c6-26a3-4e30-d285-1853eb264dc7"
   },
   "outputs": [
    {
     "name": "stdout",
     "output_type": "stream",
     "text": [
      "[2 1 3 ... 6 9 8]\n",
      "[[0. 0. 1. ... 0. 0. 0.]\n",
      " [0. 1. 0. ... 0. 0. 0.]\n",
      " [0. 0. 0. ... 0. 0. 0.]\n",
      " ...\n",
      " [0. 0. 0. ... 0. 0. 0.]\n",
      " [0. 0. 0. ... 0. 0. 1.]\n",
      " [0. 0. 0. ... 0. 1. 0.]]\n"
     ]
    }
   ],
   "source": [
    "image_data,label_data = initialize_data()\n",
    "x_train, x_val, x_test, y_train, y_val, y_test, y_train_cat, y_val_cat, y_test_cat = preprocess_data(image_data,label_data)\n",
    "print(y_train)\n",
    "print(y_train_cat)"
   ]
  },
  {
   "cell_type": "code",
   "execution_count": 28,
   "metadata": {
    "colab": {
     "base_uri": "https://localhost:8080/",
     "height": 3894
    },
    "colab_type": "code",
    "executionInfo": {
     "elapsed": 47308,
     "status": "ok",
     "timestamp": 1541099108223,
     "user": {
      "displayName": "Shyam Subramanian",
      "photoUrl": "",
      "userId": "08648789884609156572"
     },
     "user_tz": 240
    },
    "id": "ZZB8LbmbqeaM",
    "outputId": "42e35221-b40f-4e7b-b386-6689214c9afd"
   },
   "outputs": [
    {
     "name": "stdout",
     "output_type": "stream",
     "text": [
      "Train on 3900 samples, validate on 975 samples\n",
      "Epoch 1/100\n",
      "3900/3900 [==============================] - 1s 246us/step - loss: 2.2754 - acc: 0.1546 - val_loss: 2.1242 - val_acc: 0.2882\n",
      "Epoch 2/100\n",
      "3900/3900 [==============================] - 0s 94us/step - loss: 2.0224 - acc: 0.4092 - val_loss: 1.9342 - val_acc: 0.4882\n",
      "Epoch 3/100\n",
      "3900/3900 [==============================] - 0s 94us/step - loss: 1.8335 - acc: 0.5644 - val_loss: 1.7718 - val_acc: 0.5826\n",
      "Epoch 4/100\n",
      "3900/3900 [==============================] - 0s 93us/step - loss: 1.6766 - acc: 0.6433 - val_loss: 1.6359 - val_acc: 0.6503\n",
      "Epoch 5/100\n",
      "3900/3900 [==============================] - 0s 117us/step - loss: 1.5411 - acc: 0.6915 - val_loss: 1.5233 - val_acc: 0.6831\n",
      "Epoch 6/100\n",
      "3900/3900 [==============================] - 0s 118us/step - loss: 1.4266 - acc: 0.7336 - val_loss: 1.4232 - val_acc: 0.7210\n",
      "Epoch 7/100\n",
      "3900/3900 [==============================] - 0s 118us/step - loss: 1.3277 - acc: 0.7646 - val_loss: 1.3366 - val_acc: 0.7262\n",
      "Epoch 8/100\n",
      "3900/3900 [==============================] - 0s 117us/step - loss: 1.2439 - acc: 0.7826 - val_loss: 1.2609 - val_acc: 0.7610\n",
      "Epoch 9/100\n",
      "3900/3900 [==============================] - 0s 119us/step - loss: 1.1643 - acc: 0.8079 - val_loss: 1.1939 - val_acc: 0.7723\n",
      "Epoch 10/100\n",
      "3900/3900 [==============================] - 0s 117us/step - loss: 1.0965 - acc: 0.8262 - val_loss: 1.1362 - val_acc: 0.7774\n",
      "Epoch 11/100\n",
      "3900/3900 [==============================] - 0s 118us/step - loss: 1.0341 - acc: 0.8326 - val_loss: 1.0825 - val_acc: 0.7990\n",
      "Epoch 12/100\n",
      "3900/3900 [==============================] - 0s 117us/step - loss: 0.9781 - acc: 0.8523 - val_loss: 1.0360 - val_acc: 0.8082\n",
      "Epoch 13/100\n",
      "3900/3900 [==============================] - 0s 118us/step - loss: 0.9309 - acc: 0.8572 - val_loss: 0.9931 - val_acc: 0.8144\n",
      "Epoch 14/100\n",
      "3900/3900 [==============================] - 0s 118us/step - loss: 0.8851 - acc: 0.8667 - val_loss: 0.9567 - val_acc: 0.8174\n",
      "Epoch 15/100\n",
      "3900/3900 [==============================] - 0s 118us/step - loss: 0.8448 - acc: 0.8692 - val_loss: 0.9228 - val_acc: 0.8277\n",
      "Epoch 16/100\n",
      "3900/3900 [==============================] - 0s 119us/step - loss: 0.8091 - acc: 0.8790 - val_loss: 0.8946 - val_acc: 0.8277\n",
      "Epoch 17/100\n",
      "3900/3900 [==============================] - 0s 117us/step - loss: 0.7748 - acc: 0.8826 - val_loss: 0.8654 - val_acc: 0.8267\n",
      "Epoch 18/100\n",
      "3900/3900 [==============================] - 0s 117us/step - loss: 0.7448 - acc: 0.8877 - val_loss: 0.8393 - val_acc: 0.8328\n",
      "Epoch 19/100\n",
      "3900/3900 [==============================] - 0s 119us/step - loss: 0.7165 - acc: 0.8928 - val_loss: 0.8147 - val_acc: 0.8379\n",
      "Epoch 20/100\n",
      "3900/3900 [==============================] - 0s 116us/step - loss: 0.6879 - acc: 0.8977 - val_loss: 0.7948 - val_acc: 0.8349\n",
      "Epoch 21/100\n",
      "3900/3900 [==============================] - 0s 118us/step - loss: 0.6648 - acc: 0.9013 - val_loss: 0.7747 - val_acc: 0.8410\n",
      "Epoch 22/100\n",
      "3900/3900 [==============================] - 0s 118us/step - loss: 0.6404 - acc: 0.9069 - val_loss: 0.7555 - val_acc: 0.8441\n",
      "Epoch 23/100\n",
      "3900/3900 [==============================] - 0s 118us/step - loss: 0.6219 - acc: 0.9090 - val_loss: 0.7393 - val_acc: 0.8421\n",
      "Epoch 24/100\n",
      "3900/3900 [==============================] - 0s 117us/step - loss: 0.5996 - acc: 0.9121 - val_loss: 0.7228 - val_acc: 0.8472\n",
      "Epoch 25/100\n",
      "3900/3900 [==============================] - 0s 119us/step - loss: 0.5824 - acc: 0.9146 - val_loss: 0.7085 - val_acc: 0.8482\n",
      "Epoch 26/100\n",
      "3900/3900 [==============================] - 0s 120us/step - loss: 0.5650 - acc: 0.9154 - val_loss: 0.6939 - val_acc: 0.8513\n",
      "Epoch 27/100\n",
      "3900/3900 [==============================] - 0s 119us/step - loss: 0.5477 - acc: 0.9182 - val_loss: 0.6831 - val_acc: 0.8503\n",
      "Epoch 28/100\n",
      "3900/3900 [==============================] - 0s 120us/step - loss: 0.5309 - acc: 0.9231 - val_loss: 0.6695 - val_acc: 0.8554\n",
      "Epoch 29/100\n",
      "3900/3900 [==============================] - 0s 118us/step - loss: 0.5188 - acc: 0.9244 - val_loss: 0.6585 - val_acc: 0.8544\n",
      "Epoch 30/100\n",
      "3900/3900 [==============================] - 0s 118us/step - loss: 0.5027 - acc: 0.9249 - val_loss: 0.6465 - val_acc: 0.8595\n",
      "Epoch 31/100\n",
      "3900/3900 [==============================] - 0s 117us/step - loss: 0.4889 - acc: 0.9315 - val_loss: 0.6377 - val_acc: 0.8523\n",
      "Epoch 32/100\n",
      "3900/3900 [==============================] - 0s 119us/step - loss: 0.4759 - acc: 0.9292 - val_loss: 0.6276 - val_acc: 0.8554\n",
      "Epoch 33/100\n",
      "3900/3900 [==============================] - 0s 117us/step - loss: 0.4666 - acc: 0.9313 - val_loss: 0.6185 - val_acc: 0.8585\n",
      "Epoch 34/100\n",
      "3900/3900 [==============================] - 0s 117us/step - loss: 0.4555 - acc: 0.9346 - val_loss: 0.6100 - val_acc: 0.8574\n",
      "Epoch 35/100\n",
      "3900/3900 [==============================] - 0s 116us/step - loss: 0.4459 - acc: 0.9336 - val_loss: 0.5995 - val_acc: 0.8646\n",
      "Epoch 36/100\n",
      "3900/3900 [==============================] - 0s 117us/step - loss: 0.4349 - acc: 0.9351 - val_loss: 0.5914 - val_acc: 0.8615\n",
      "Epoch 37/100\n",
      "3900/3900 [==============================] - 0s 118us/step - loss: 0.4242 - acc: 0.9354 - val_loss: 0.5842 - val_acc: 0.8626\n",
      "Epoch 38/100\n",
      "3900/3900 [==============================] - 0s 120us/step - loss: 0.4158 - acc: 0.9413 - val_loss: 0.5763 - val_acc: 0.8636\n",
      "Epoch 39/100\n",
      "3900/3900 [==============================] - 0s 118us/step - loss: 0.4079 - acc: 0.9392 - val_loss: 0.5692 - val_acc: 0.8677\n",
      "Epoch 40/100\n",
      "3900/3900 [==============================] - 0s 118us/step - loss: 0.3987 - acc: 0.9444 - val_loss: 0.5626 - val_acc: 0.8636\n",
      "Epoch 41/100\n",
      "3900/3900 [==============================] - 0s 121us/step - loss: 0.3907 - acc: 0.9410 - val_loss: 0.5561 - val_acc: 0.8636\n",
      "Epoch 42/100\n",
      "3900/3900 [==============================] - 0s 120us/step - loss: 0.3841 - acc: 0.9421 - val_loss: 0.5507 - val_acc: 0.8656\n",
      "Epoch 43/100\n",
      "3900/3900 [==============================] - 0s 119us/step - loss: 0.3752 - acc: 0.9431 - val_loss: 0.5449 - val_acc: 0.8646\n",
      "Epoch 44/100\n",
      "3900/3900 [==============================] - 0s 119us/step - loss: 0.3695 - acc: 0.9459 - val_loss: 0.5391 - val_acc: 0.8646\n",
      "Epoch 45/100\n",
      "3900/3900 [==============================] - 0s 118us/step - loss: 0.3619 - acc: 0.9464 - val_loss: 0.5343 - val_acc: 0.8697\n",
      "Epoch 46/100\n",
      "3900/3900 [==============================] - 0s 120us/step - loss: 0.3562 - acc: 0.9474 - val_loss: 0.5287 - val_acc: 0.8718\n",
      "Epoch 47/100\n",
      "3900/3900 [==============================] - 0s 119us/step - loss: 0.3486 - acc: 0.9492 - val_loss: 0.5237 - val_acc: 0.8708\n",
      "Epoch 48/100\n",
      "3900/3900 [==============================] - 0s 119us/step - loss: 0.3431 - acc: 0.9487 - val_loss: 0.5178 - val_acc: 0.8749\n",
      "Epoch 49/100\n",
      "3900/3900 [==============================] - 0s 119us/step - loss: 0.3377 - acc: 0.9479 - val_loss: 0.5138 - val_acc: 0.8728\n",
      "Epoch 50/100\n",
      "3900/3900 [==============================] - 0s 119us/step - loss: 0.3326 - acc: 0.9490 - val_loss: 0.5097 - val_acc: 0.8749\n",
      "Epoch 51/100\n",
      "3900/3900 [==============================] - 0s 119us/step - loss: 0.3273 - acc: 0.9510 - val_loss: 0.5047 - val_acc: 0.8759\n",
      "Epoch 52/100\n",
      "3900/3900 [==============================] - 0s 118us/step - loss: 0.3215 - acc: 0.9508 - val_loss: 0.5006 - val_acc: 0.8728\n",
      "Epoch 53/100\n",
      "3900/3900 [==============================] - 0s 118us/step - loss: 0.3166 - acc: 0.9510 - val_loss: 0.4971 - val_acc: 0.8738\n",
      "Epoch 54/100\n",
      "3900/3900 [==============================] - 0s 117us/step - loss: 0.3114 - acc: 0.9528 - val_loss: 0.4928 - val_acc: 0.8738\n",
      "Epoch 55/100\n",
      "3900/3900 [==============================] - 0s 116us/step - loss: 0.3064 - acc: 0.9538 - val_loss: 0.4898 - val_acc: 0.8749\n",
      "Epoch 56/100\n",
      "3900/3900 [==============================] - 0s 118us/step - loss: 0.3023 - acc: 0.9544 - val_loss: 0.4858 - val_acc: 0.8759\n",
      "Epoch 57/100\n",
      "3900/3900 [==============================] - 0s 121us/step - loss: 0.2987 - acc: 0.9559 - val_loss: 0.4817 - val_acc: 0.8779\n",
      "Epoch 58/100\n",
      "3900/3900 [==============================] - 0s 120us/step - loss: 0.2944 - acc: 0.9564 - val_loss: 0.4780 - val_acc: 0.8779\n",
      "Epoch 59/100\n",
      "3900/3900 [==============================] - 0s 119us/step - loss: 0.2891 - acc: 0.9569 - val_loss: 0.4752 - val_acc: 0.8769\n",
      "Epoch 60/100\n",
      "3900/3900 [==============================] - 0s 118us/step - loss: 0.2855 - acc: 0.9556 - val_loss: 0.4720 - val_acc: 0.8749\n",
      "Epoch 61/100\n",
      "3900/3900 [==============================] - 0s 117us/step - loss: 0.2815 - acc: 0.9559 - val_loss: 0.4686 - val_acc: 0.8790\n",
      "Epoch 62/100\n",
      "3900/3900 [==============================] - 0s 119us/step - loss: 0.2774 - acc: 0.9559 - val_loss: 0.4656 - val_acc: 0.8769\n",
      "Epoch 63/100\n",
      "3900/3900 [==============================] - 0s 117us/step - loss: 0.2745 - acc: 0.9579 - val_loss: 0.4633 - val_acc: 0.8769\n",
      "Epoch 64/100\n",
      "3900/3900 [==============================] - 0s 119us/step - loss: 0.2696 - acc: 0.9595 - val_loss: 0.4603 - val_acc: 0.8790\n",
      "Epoch 65/100\n",
      "3900/3900 [==============================] - 0s 119us/step - loss: 0.2657 - acc: 0.9579 - val_loss: 0.4572 - val_acc: 0.8790\n",
      "Epoch 66/100\n",
      "3900/3900 [==============================] - 0s 117us/step - loss: 0.2625 - acc: 0.9603 - val_loss: 0.4549 - val_acc: 0.8790\n",
      "Epoch 67/100\n",
      "3900/3900 [==============================] - 0s 117us/step - loss: 0.2601 - acc: 0.9587 - val_loss: 0.4524 - val_acc: 0.8790\n",
      "Epoch 68/100\n",
      "3900/3900 [==============================] - 0s 117us/step - loss: 0.2584 - acc: 0.9574 - val_loss: 0.4499 - val_acc: 0.8790\n",
      "Epoch 69/100\n",
      "3900/3900 [==============================] - 0s 117us/step - loss: 0.2537 - acc: 0.9597 - val_loss: 0.4469 - val_acc: 0.8790\n",
      "Epoch 70/100\n",
      "3900/3900 [==============================] - 0s 117us/step - loss: 0.2514 - acc: 0.9613 - val_loss: 0.4438 - val_acc: 0.8810\n",
      "Epoch 71/100\n",
      "3900/3900 [==============================] - 0s 118us/step - loss: 0.2476 - acc: 0.9597 - val_loss: 0.4422 - val_acc: 0.8810\n",
      "Epoch 72/100\n",
      "3900/3900 [==============================] - 0s 117us/step - loss: 0.2447 - acc: 0.9626 - val_loss: 0.4399 - val_acc: 0.8810\n",
      "Epoch 73/100\n",
      "3900/3900 [==============================] - 0s 118us/step - loss: 0.2419 - acc: 0.9618 - val_loss: 0.4377 - val_acc: 0.8790\n",
      "Epoch 74/100\n",
      "3900/3900 [==============================] - 0s 116us/step - loss: 0.2403 - acc: 0.9631 - val_loss: 0.4353 - val_acc: 0.8810\n",
      "Epoch 75/100\n",
      "3900/3900 [==============================] - 0s 117us/step - loss: 0.2357 - acc: 0.9626 - val_loss: 0.4337 - val_acc: 0.8800\n",
      "Epoch 76/100\n",
      "3900/3900 [==============================] - 0s 117us/step - loss: 0.2345 - acc: 0.9638 - val_loss: 0.4312 - val_acc: 0.8800\n",
      "Epoch 77/100\n",
      "3900/3900 [==============================] - 0s 118us/step - loss: 0.2316 - acc: 0.9618 - val_loss: 0.4297 - val_acc: 0.8810\n",
      "Epoch 78/100\n",
      "3900/3900 [==============================] - 0s 118us/step - loss: 0.2287 - acc: 0.9633 - val_loss: 0.4286 - val_acc: 0.8821\n",
      "Epoch 79/100\n",
      "3900/3900 [==============================] - 0s 117us/step - loss: 0.2271 - acc: 0.9646 - val_loss: 0.4260 - val_acc: 0.8800\n",
      "Epoch 80/100\n",
      "3900/3900 [==============================] - 0s 119us/step - loss: 0.2238 - acc: 0.9644 - val_loss: 0.4234 - val_acc: 0.8810\n",
      "Epoch 81/100\n",
      "3900/3900 [==============================] - 0s 116us/step - loss: 0.2216 - acc: 0.9644 - val_loss: 0.4222 - val_acc: 0.8821\n",
      "Epoch 82/100\n",
      "3900/3900 [==============================] - 0s 117us/step - loss: 0.2203 - acc: 0.9646 - val_loss: 0.4205 - val_acc: 0.8821\n",
      "Epoch 83/100\n",
      "3900/3900 [==============================] - 0s 117us/step - loss: 0.2164 - acc: 0.9669 - val_loss: 0.4181 - val_acc: 0.8841\n",
      "Epoch 84/100\n",
      "3900/3900 [==============================] - 0s 115us/step - loss: 0.2167 - acc: 0.9641 - val_loss: 0.4163 - val_acc: 0.8831\n",
      "Epoch 85/100\n",
      "3900/3900 [==============================] - 0s 116us/step - loss: 0.2135 - acc: 0.9664 - val_loss: 0.4154 - val_acc: 0.8821\n",
      "Epoch 86/100\n",
      "3900/3900 [==============================] - 0s 116us/step - loss: 0.2095 - acc: 0.9682 - val_loss: 0.4134 - val_acc: 0.8872\n",
      "Epoch 87/100\n",
      "3900/3900 [==============================] - 0s 116us/step - loss: 0.2089 - acc: 0.9677 - val_loss: 0.4119 - val_acc: 0.8851\n",
      "Epoch 88/100\n",
      "3900/3900 [==============================] - 0s 118us/step - loss: 0.2071 - acc: 0.9669 - val_loss: 0.4105 - val_acc: 0.8841\n",
      "Epoch 89/100\n",
      "3900/3900 [==============================] - 0s 118us/step - loss: 0.2051 - acc: 0.9667 - val_loss: 0.4091 - val_acc: 0.8831\n",
      "Epoch 90/100\n",
      "3900/3900 [==============================] - 0s 117us/step - loss: 0.2025 - acc: 0.9679 - val_loss: 0.4076 - val_acc: 0.8872\n",
      "Epoch 91/100\n",
      "3900/3900 [==============================] - 0s 119us/step - loss: 0.2015 - acc: 0.9662 - val_loss: 0.4061 - val_acc: 0.8862\n",
      "Epoch 92/100\n",
      "3900/3900 [==============================] - 0s 119us/step - loss: 0.1992 - acc: 0.9677 - val_loss: 0.4046 - val_acc: 0.8882\n",
      "Epoch 93/100\n",
      "3900/3900 [==============================] - 0s 120us/step - loss: 0.1982 - acc: 0.9692 - val_loss: 0.4035 - val_acc: 0.8913\n",
      "Epoch 94/100\n",
      "3900/3900 [==============================] - 0s 119us/step - loss: 0.1968 - acc: 0.9674 - val_loss: 0.4022 - val_acc: 0.8903\n",
      "Epoch 95/100\n",
      "3900/3900 [==============================] - 0s 119us/step - loss: 0.1946 - acc: 0.9682 - val_loss: 0.4010 - val_acc: 0.8882\n",
      "Epoch 96/100\n",
      "3900/3900 [==============================] - 0s 117us/step - loss: 0.1911 - acc: 0.9710 - val_loss: 0.3996 - val_acc: 0.8903\n",
      "Epoch 97/100\n",
      "3900/3900 [==============================] - 0s 119us/step - loss: 0.1901 - acc: 0.9687 - val_loss: 0.3984 - val_acc: 0.8892\n",
      "Epoch 98/100\n",
      "3900/3900 [==============================] - 0s 118us/step - loss: 0.1898 - acc: 0.9713 - val_loss: 0.3971 - val_acc: 0.8892\n",
      "Epoch 99/100\n",
      "3900/3900 [==============================] - 0s 119us/step - loss: 0.1867 - acc: 0.9710 - val_loss: 0.3963 - val_acc: 0.8913\n",
      "Epoch 100/100\n",
      "3900/3900 [==============================] - 0s 118us/step - loss: 0.1861 - acc: 0.9713 - val_loss: 0.3946 - val_acc: 0.8923\n",
      "46.90206027030945\n",
      "0.8923076974428618\n"
     ]
    },
    {
     "data": {
      "image/png": "[encoded data removed]",
      "text/plain": [
       "<matplotlib.figure.Figure at 0x7f946a010b38>"
      ]
     },
     "metadata": {
      "tags": []
     },
     "output_type": "display_data"
    }
   ],
   "source": [
    "import time\n",
    "\n",
    "\n",
    "layers = [ Dense(512, input_shape=(28*28, ), kernel_initializer='he_normal'),\n",
    "          Activation('sigmoid'),\n",
    "          BatchNormalization(),\n",
    "          Dense(512, kernel_initializer='he_normal'),\n",
    "          Activation('sigmoid'),\n",
    "          #Dropout(0.5),\n",
    "          Dense(10, kernel_initializer='he_normal'),\n",
    "          Activation('softmax') ]\n",
    "start = time.time()\n",
    "\n",
    "model,history = experiments(x_train,y_train_cat,x_val,y_val_cat,layers,100,256,keras.optimizers.Adam())\n",
    "\n",
    "done = time.time()\n",
    "elapsed = done - start\n",
    "print(elapsed)\n",
    "print(history.history['val_acc'][-1])\n",
    "plot('Model Accuracy','accuracy','epoch',history.history['acc'],history.history['val_acc'])\n",
    "#plot('Model Loss','loss','epoch',history.history['loss'],history.history['val_loss'])"
   ]
  },
  {
   "cell_type": "code",
   "execution_count": 17,
   "metadata": {
    "colab": {
     "base_uri": "https://localhost:8080/",
     "height": 409
    },
    "colab_type": "code",
    "executionInfo": {
     "elapsed": 990,
     "status": "ok",
     "timestamp": 1541091983883,
     "user": {
      "displayName": "Shyam Subramanian",
      "photoUrl": "",
      "userId": "08648789884609156572"
     },
     "user_tz": 240
    },
    "id": "RAHWwVWWsKrf",
    "outputId": "16791bb2-bbcf-4609-992f-4cceb915264a"
   },
   "outputs": [
    {
     "name": "stdout",
     "output_type": "stream",
     "text": [
      "[2 5 5 ... 3 4 8]\n",
      "[2 1 5 ... 3 4 8]\n",
      "0.9452307692307692\n"
     ]
    },
    {
     "data": {
      "image/png": "[encoded data removed]",
      "text/plain": [
       "<matplotlib.figure.Figure at 0x7f946a250588>"
      ]
     },
     "metadata": {
      "tags": []
     },
     "output_type": "display_data"
    }
   ],
   "source": [
    "#!pip install pandas\n",
    "prediction = model.predict(x_test)\n",
    "y_pred = np.array(prediction).argmax(axis=-1)\n",
    "print(y_test)\n",
    "print(y_pred)\n",
    "cnf_mat = confusion_matrix(y_test, y_pred)\n",
    "cnf_row, cnf_col = cnf_mat.shape\n",
    "print(accuracy_score(y_test,y_pred))\n",
    "df_cm = pd.DataFrame(cnf_mat, range(cnf_row),\n",
    "                  range(cnf_col))\n",
    "sn.set(font_scale=2)\n",
    "sn.heatmap(df_cm, annot=True,annot_kws={\"size\": 10},fmt='g')\n",
    "recall = recall_score(y_test,y_pred,average='weighted')\n",
    "precision = precision_score(y_test,y_pred,average='weighted')\n",
    "F1_score = 2 * (precision * recall) / (precision + recall)\n"
   ]
  },
  {
   "cell_type": "markdown",
   "metadata": {
    "colab_type": "text",
    "id": "lQdYV-IhsD4o"
   },
   "source": [
    "----------------------------------------------------------------------------------------------------------------------------------------------------------------"
   ]
  },
  {
   "cell_type": "code",
   "execution_count": 0,
   "metadata": {
    "colab": {},
    "colab_type": "code",
    "id": "2XTeur2e-9KC"
   },
   "outputs": [],
   "source": [
    "image_file_name = r'images.npy'\n",
    "label_file_name = r'labels.npy'\n",
    "image_data = np.load(image_file_name)\n",
    "label_data = np.load(label_file_name)"
   ]
  },
  {
   "cell_type": "code",
   "execution_count": 0,
   "metadata": {
    "colab": {},
    "colab_type": "code",
    "id": "XYJqoBdMUFND"
   },
   "outputs": [],
   "source": [
    "model.save('my_model.h5')\n",
    "files.download('my_model.h5')"
   ]
  },
  {
   "cell_type": "code",
   "execution_count": 0,
   "metadata": {
    "colab": {},
    "colab_type": "code",
    "id": "CnuHsRo5LoIn"
   },
   "outputs": [],
   "source": [
    "from IPython.display import SVG\n",
    "from keras.utils.vis_utils import model_to_dot\n",
    "from keras.utils import plot_model\n",
    "\n",
    "SVG(model_to_dot(model).create(prog='dot', format='svg'))\n",
    "plot_model(model, to_file='model.png',show_shapes=True)\n",
    "files.download('model.png')"
   ]
  },
  {
   "cell_type": "code",
   "execution_count": 61,
   "metadata": {
    "colab": {
     "base_uri": "https://localhost:8080/",
     "height": 295
    },
    "colab_type": "code",
    "executionInfo": {
     "elapsed": 299,
     "status": "ok",
     "timestamp": 1541029533656,
     "user": {
      "displayName": "Mahdi Alouane",
      "photoUrl": "",
      "userId": "04329092202378391833"
     },
     "user_tz": 240
    },
    "id": "nYssEMwb-9KF",
    "outputId": "e193ea87-61a2-4f10-f943-9e3e04973c96"
   },
   "outputs": [
    {
     "data": {
      "image/png": "[encoded data removed]",
      "text/plain": [
       "<matplotlib.figure.Figure at 0x7f3dac63a7f0>"
      ]
     },
     "metadata": {
      "tags": []
     },
     "output_type": "display_data"
    },
    {
     "name": "stdout",
     "output_type": "stream",
     "text": [
      "6\n"
     ]
    }
   ],
   "source": [
    "%matplotlib inline\n",
    "import matplotlib.pyplot as plt\n",
    "image_data_pre = image_data.reshape(6500,784)\n",
    "index = 0\n",
    "for image in image_data_pre:\n",
    "    index += 1\n",
    "    plt.imshow(image.reshape(28,28), cmap='gray')\n",
    "    plt.show()\n",
    "    if index == 1:\n",
    "        break\n",
    "index = 0\n",
    "for label in label_data:\n",
    "    index += 1\n",
    "    print(label)\n",
    "    if index == 1:\n",
    "        break"
   ]
  },
  {
   "cell_type": "code",
   "execution_count": 62,
   "metadata": {
    "colab": {
     "base_uri": "https://localhost:8080/",
     "height": 204
    },
    "colab_type": "code",
    "executionInfo": {
     "elapsed": 560,
     "status": "ok",
     "timestamp": 1541029536536,
     "user": {
      "displayName": "Mahdi Alouane",
      "photoUrl": "",
      "userId": "04329092202378391833"
     },
     "user_tz": 240
    },
    "id": "UrHuUw1Z-9KL",
    "outputId": "cfe8123c-98c5-48c0-a0ca-af5253aa83d0"
   },
   "outputs": [
    {
     "name": "stdout",
     "output_type": "stream",
     "text": [
      "(3900, 784)\n",
      "(975, 784)\n",
      "(1625, 784)\n",
      "[9 6 2 ... 0 3 0]\n",
      "[[0. 0. 0. ... 0. 0. 1.]\n",
      " [0. 0. 0. ... 0. 0. 0.]\n",
      " [0. 0. 1. ... 0. 0. 0.]\n",
      " ...\n",
      " [1. 0. 0. ... 0. 0. 0.]\n",
      " [0. 0. 0. ... 0. 0. 0.]\n",
      " [1. 0. 0. ... 0. 0. 0.]]\n"
     ]
    }
   ],
   "source": [
    "x_train2, x_test, y_train2, y_test = train_test_split(image_data_pre, label_data,\n",
    "                                                    test_size=0.25,\n",
    "                                                    random_state=0,\n",
    "                                                    stratify=label_data)\n",
    "x_train, x_val, y_train, y_val = train_test_split(x_train2, y_train2,\n",
    "                                                    test_size=0.20,\n",
    "                                                    random_state=0,\n",
    "                                                    stratify=y_train2)\n",
    "print(x_train.shape)\n",
    "print(x_val.shape)\n",
    "print(x_test.shape)\n",
    "print(y_train)\n",
    "print(keras.utils.to_categorical(y_train))"
   ]
  },
  {
   "cell_type": "code",
   "execution_count": 0,
   "metadata": {
    "colab": {},
    "colab_type": "code",
    "id": "jlPmtLre-9KO"
   },
   "outputs": [],
   "source": [
    "y_train_cat = keras.utils.to_categorical(y_train)\n",
    "y_val_cat = keras.utils.to_categorical(y_val)\n",
    "y_test_cat = keras.utils.to_categorical(y_test)"
   ]
  },
  {
   "cell_type": "code",
   "execution_count": 0,
   "metadata": {
    "colab": {},
    "colab_type": "code",
    "id": "CT6nrfZz_FGW"
   },
   "outputs": [],
   "source": [
    "model = Sequential() # declare model\n",
    "model.add(Dense(10, input_shape=(28*28, ), kernel_initializer=keras.initializers.he_normal(seed=69))) # first layer\n",
    "model.add(Activation('tanh'))"
   ]
  },
  {
   "cell_type": "code",
   "execution_count": 0,
   "metadata": {
    "colab": {},
    "colab_type": "code",
    "id": "biDkzVz2-9KS"
   },
   "outputs": [],
   "source": [
    "model.add(Dense(10, kernel_initializer='he_normal')) # last layer\n",
    "model.add(Activation('softmax'))"
   ]
  },
  {
   "cell_type": "markdown",
   "metadata": {
    "colab_type": "text",
    "id": "aDeNpq2e-9KV"
   },
   "source": [
    "# Compile Model"
   ]
  },
  {
   "cell_type": "code",
   "execution_count": 0,
   "metadata": {
    "colab": {},
    "colab_type": "code",
    "id": "sOPJsHGUYa9C"
   },
   "outputs": [],
   "source": [
    "def recall(y_true, y_pred):\n",
    "    true_positives = keras.backend.sum(keras.backend.round(keras.backend.clip(y_true * y_pred, 0, 1)))\n",
    "    possible_positives = keras.backend.sum(keras.backend.round(keras.backend.clip(y_true, 0, 1)))\n",
    "    recall = true_positives / (possible_positives + keras.backend.epsilon())\n",
    "    return recall\n",
    "  \n",
    "def precision(y_true, y_pred):\n",
    "    true_positives = keras.backend.sum(keras.backend.round(keras.backend.clip(y_true * y_pred, 0, 1)))\n",
    "    predicted_positives = keras.backend.sum(keras.backend.round(keras.backend.clip(y_pred, 0, 1)))\n",
    "    precision = true_positives / (predicted_positives + keras.backend.epsilon())\n",
    "    return precision"
   ]
  },
  {
   "cell_type": "code",
   "execution_count": 0,
   "metadata": {
    "colab": {},
    "colab_type": "code",
    "id": "mfCb4Wj4-9KW"
   },
   "outputs": [],
   "source": [
    "model.compile(optimizer='sgd',\n",
    "              loss='categorical_crossentropy', \n",
    "              metrics=['accuracy',recall, precision])"
   ]
  },
  {
   "cell_type": "markdown",
   "metadata": {
    "colab_type": "text",
    "id": "si1r2XBW-9KZ"
   },
   "source": [
    "# Train Model"
   ]
  },
  {
   "cell_type": "code",
   "execution_count": 76,
   "metadata": {
    "colab": {
     "base_uri": "https://localhost:8080/",
     "height": 394
    },
    "colab_type": "code",
    "executionInfo": {
     "elapsed": 870,
     "status": "ok",
     "timestamp": 1541029764077,
     "user": {
      "displayName": "Mahdi Alouane",
      "photoUrl": "",
      "userId": "04329092202378391833"
     },
     "user_tz": 240
    },
    "id": "Lh2pJlKyZ_gH",
    "outputId": "673ee0d0-004b-4174-d384-f79ccb43d55d"
   },
   "outputs": [
    {
     "name": "stdout",
     "output_type": "stream",
     "text": [
      "Train on 3900 samples, validate on 975 samples\n",
      "Epoch 1/10\n",
      "3900/3900 [==============================] - 0s 16us/step - loss: 1.1676 - acc: 0.6621 - recall: 0.3131 - precision: 0.9456 - val_loss: 1.1748 - val_acc: 0.6595 - val_recall: 0.3149 - val_precision: 0.9303\n",
      "Epoch 2/10\n",
      "3900/3900 [==============================] - 0s 16us/step - loss: 1.1433 - acc: 0.6585 - recall: 0.3259 - precision: 0.9491 - val_loss: 1.2995 - val_acc: 0.5897 - val_recall: 0.2205 - val_precision: 0.9397\n",
      "Epoch 3/10\n",
      "3900/3900 [==============================] - 0s 16us/step - loss: 1.2366 - acc: 0.6174 - recall: 0.2479 - precision: 0.9318 - val_loss: 1.2322 - val_acc: 0.6164 - val_recall: 0.2564 - val_precision: 0.9007\n",
      "Epoch 4/10\n",
      "3900/3900 [==============================] - 0s 16us/step - loss: 1.1464 - acc: 0.6515 - recall: 0.3149 - precision: 0.9415 - val_loss: 1.1484 - val_acc: 0.6718 - val_recall: 0.3221 - val_precision: 0.9329\n",
      "Epoch 5/10\n",
      "3900/3900 [==============================] - 0s 16us/step - loss: 1.1283 - acc: 0.6685 - recall: 0.3277 - precision: 0.9425 - val_loss: 1.1743 - val_acc: 0.6554 - val_recall: 0.3077 - val_precision: 0.9181\n",
      "Epoch 6/10\n",
      "3900/3900 [==============================] - 0s 16us/step - loss: 1.1489 - acc: 0.6538 - recall: 0.3287 - precision: 0.9513 - val_loss: 1.1717 - val_acc: 0.6441 - val_recall: 0.3015 - val_precision: 0.9300\n",
      "Epoch 7/10\n",
      "3900/3900 [==============================] - 0s 16us/step - loss: 1.1167 - acc: 0.6738 - recall: 0.3221 - precision: 0.9407 - val_loss: 1.2029 - val_acc: 0.6072 - val_recall: 0.2923 - val_precision: 0.9277\n",
      "Epoch 8/10\n",
      "3900/3900 [==============================] - 0s 16us/step - loss: 1.1167 - acc: 0.6610 - recall: 0.3267 - precision: 0.9364 - val_loss: 1.1475 - val_acc: 0.6482 - val_recall: 0.3179 - val_precision: 0.9317\n",
      "Epoch 9/10\n",
      "3900/3900 [==============================] - 0s 15us/step - loss: 1.1115 - acc: 0.6531 - recall: 0.3336 - precision: 0.9444 - val_loss: 1.1161 - val_acc: 0.6574 - val_recall: 0.3405 - val_precision: 0.9328\n",
      "Epoch 10/10\n",
      "3900/3900 [==============================] - 0s 16us/step - loss: 1.1237 - acc: 0.6623 - recall: 0.3351 - precision: 0.9337 - val_loss: 1.1308 - val_acc: 0.6574 - val_recall: 0.3333 - val_precision: 0.9260\n"
     ]
    }
   ],
   "source": [
    "history = model.fit(x_train, y_train_cat, \n",
    "                    validation_data = (x_val, y_val_cat), \n",
    "                    epochs=10,\n",
    "                    batch_size=200,\n",
    "                    verbose=1)"
   ]
  },
  {
   "cell_type": "code",
   "execution_count": 70,
   "metadata": {
    "colab": {
     "base_uri": "https://localhost:8080/",
     "height": 339
    },
    "colab_type": "code",
    "executionInfo": {
     "elapsed": 436,
     "status": "ok",
     "timestamp": 1541029708846,
     "user": {
      "displayName": "Mahdi Alouane",
      "photoUrl": "",
      "userId": "04329092202378391833"
     },
     "user_tz": 240
    },
    "id": "0f5fyL5lMvJh",
    "outputId": "4afa5ef5-4bf5-46a9-cd2f-d51b13de413d"
   },
   "outputs": [
    {
     "name": "stdout",
     "output_type": "stream",
     "text": [
      "dict_keys(['val_loss', 'val_acc', 'val_recall', 'val_precision', 'loss', 'acc', 'recall', 'precision'])\n"
     ]
    },
    {
     "data": {
      "image/png": "[encoded data removed]",
      "text/plain": [
       "<matplotlib.figure.Figure at 0x7f3dabcfa550>"
      ]
     },
     "metadata": {
      "tags": []
     },
     "output_type": "display_data"
    }
   ],
   "source": [
    "#import pydot\n",
    "#import graphviz\n",
    "from keras.utils import plot_model\n",
    "#plot_model(model, to_file='model.png')\n",
    "print(history.history.keys())\n",
    "# summarize history for accuracy\n",
    "plt.plot(history.history['acc'])\n",
    "plt.plot(history.history['val_acc'])\n",
    "plt.title('model accuracy')\n",
    "plt.ylabel('accuracy')\n",
    "plt.xlabel('epoch')\n",
    "plt.legend(['train', 'test'], loc='upper left')\n",
    "plt.show()"
   ]
  },
  {
   "cell_type": "code",
   "execution_count": 71,
   "metadata": {
    "colab": {
     "base_uri": "https://localhost:8080/",
     "height": 322
    },
    "colab_type": "code",
    "executionInfo": {
     "elapsed": 490,
     "status": "ok",
     "timestamp": 1541029714311,
     "user": {
      "displayName": "Mahdi Alouane",
      "photoUrl": "",
      "userId": "04329092202378391833"
     },
     "user_tz": 240
    },
    "id": "fAtpwo9cNokc",
    "outputId": "ab2faf79-0395-4a06-b425-f314671430c7"
   },
   "outputs": [
    {
     "data": {
      "image/png": "[encoded data removed]",
      "text/plain": [
       "<matplotlib.figure.Figure at 0x7f3dab7fde48>"
      ]
     },
     "metadata": {
      "tags": []
     },
     "output_type": "display_data"
    }
   ],
   "source": [
    "# summarize history for loss\n",
    "plt.plot(history.history['loss'])\n",
    "plt.plot(history.history['val_loss'])\n",
    "plt.title('model loss')\n",
    "plt.ylabel('loss')\n",
    "plt.xlabel('epoch')\n",
    "plt.legend(['train', 'test'], loc='upper left')\n",
    "plt.show()"
   ]
  },
  {
   "cell_type": "markdown",
   "metadata": {
    "colab_type": "text",
    "id": "ec_Cnojh-9Kk"
   },
   "source": [
    "# Report Results"
   ]
  },
  {
   "cell_type": "code",
   "execution_count": 72,
   "metadata": {
    "colab": {
     "base_uri": "https://localhost:8080/",
     "height": 88
    },
    "colab_type": "code",
    "executionInfo": {
     "elapsed": 379,
     "status": "ok",
     "timestamp": 1541029747729,
     "user": {
      "displayName": "Mahdi Alouane",
      "photoUrl": "",
      "userId": "04329092202378391833"
     },
     "user_tz": 240
    },
    "id": "WYCsrN4W-9Km",
    "outputId": "8ae183c9-465d-41f3-f1eb-63337409d58b"
   },
   "outputs": [
    {
     "name": "stdout",
     "output_type": "stream",
     "text": [
      "{'val_loss': [2.287051634910779, 2.103883217542599, 2.0073233323219495, 1.9070702668948052, 1.8534430326559606, 1.8041021732183604, 1.7697233328452477, 1.7343271389985695, 1.6094137919254792, 1.6500221307461078], 'val_acc': [0.1815384634030171, 0.21641025634912345, 0.24717948452020302, 0.2574358949294457, 0.33435897338084686, 0.3528205133401431, 0.3692307770252228, 0.42666666477154463, 0.47487179667521745, 0.4379487251624083], 'val_recall': [0.005128205025520844, 0.0020512820173723577, 0.0061538460162969735, 0.0, 0.0010256410027161622, 0.0020512820054323245, 0.0, 0.0, 0.0, 0.0153846150646225], 'val_precision': [0.31623931802236116, 0.19230769230769232, 0.35042732801192844, 0.0, 0.20512818067501754, 0.20512820512820512, 0.0, 0.0, 0.0, 0.9999999755468124], 'loss': [2.5753998389610877, 2.219641373707698, 2.0769951465802317, 1.9775421313750439, 1.8965418888972356, 1.8622782566608527, 1.7713977556962233, 1.7359512524727063, 1.6671566382432594, 1.629300682972639], 'acc': [0.12615384696385798, 0.1971794863541921, 0.21871794645602888, 0.2523076904889865, 0.29256410094407886, 0.3269230784514012, 0.3607692305858319, 0.42538461776880115, 0.4435897416029221, 0.46076922997450215], 'recall': [0.004871794810661903, 0.0020512820054323245, 0.0015384615040742434, 0.0015384615040742434, 0.0005128205013580811, 0.00025641025067904056, 0.0007692307520371217, 0.0007692307520371217, 0.00025641025067904056, 0.0107692306718001], 'precision': [0.12478359425679231, 0.20940169768455702, 0.1384615340293982, 0.11452990923172389, 0.10256409033750877, 0.051282045168754384, 0.15384613550626314, 0.08547008037567139, 0.051282045168754384, 0.4999999816601093]}\n",
      "(1625, 10) (1625, 784)\n"
     ]
    },
    {
     "data": {
      "text/plain": [
       "array([3, 7, 6, ..., 4, 7, 2])"
      ]
     },
     "execution_count": 72,
     "metadata": {
      "tags": []
     },
     "output_type": "execute_result"
    }
   ],
   "source": [
    "print(history.history)\n",
    "prediction = model.predict(x_test)\n",
    "print(prediction.shape,x_test.shape)\n",
    "y_pred = np.array(prediction).argmax(axis=-1)\n",
    "y_pred"
   ]
  },
  {
   "cell_type": "code",
   "execution_count": 58,
   "metadata": {
    "colab": {
     "base_uri": "https://localhost:8080/",
     "height": 407
    },
    "colab_type": "code",
    "executionInfo": {
     "elapsed": 884,
     "status": "ok",
     "timestamp": 1541028837671,
     "user": {
      "displayName": "Mahdi Alouane",
      "photoUrl": "",
      "userId": "04329092202378391833"
     },
     "user_tz": 240
    },
    "id": "nMR-RHiQS8aZ",
    "outputId": "619b3b14-90a3-4816-e4b6-80a9a977fd48"
   },
   "outputs": [
    {
     "name": "stdout",
     "output_type": "stream",
     "text": [
      "[3 8 6 ... 5 9 2]\n",
      "[3 8 6 ... 5 9 2]\n",
      "0.7235850302295115\n"
     ]
    },
    {
     "data": {
      "image/png": "[encoded data removed]",
      "text/plain": [
       "<matplotlib.figure.Figure at 0x7f3dabca6240>"
      ]
     },
     "metadata": {
      "tags": []
     },
     "output_type": "display_data"
    }
   ],
   "source": [
    "#!pip install pandas\n",
    "print(y_test)\n",
    "print(y_pred)\n",
    "cnf_mat = confusion_matrix(y_test, y_pred)\n",
    "cnf_row, cnf_col = cnf_mat.shape\n",
    "accuracy_score(y_test,y_pred)\n",
    "df_cm = pd.DataFrame(cnf_mat, range(cnf_row),\n",
    "                  range(cnf_col))\n",
    "sn.set(font_scale=2)\n",
    "sn.heatmap(df_cm, annot=True,annot_kws={\"size\": 10},fmt='g')\n",
    "recall = recall_score(y_test,y_pred,average='weighted')\n",
    "precision = precision_score(y_test,y_pred,average='weighted')\n",
    "F1_score = 2 * (precision * recall) / (precision + recall)\n",
    "print(F1_score)\n"
   ]
  },
  {
   "cell_type": "code",
   "execution_count": 0,
   "metadata": {
    "colab": {},
    "colab_type": "code",
    "id": "44AUrKqnVsjH"
   },
   "outputs": [],
   "source": []
  },
  {
   "cell_type": "code",
   "execution_count": 0,
   "metadata": {
    "colab": {},
    "colab_type": "code",
    "id": "75SOFS_HoU_f"
   },
   "outputs": [],
   "source": []
  }
 ],
 "metadata": {
  "colab": {
   "collapsed_sections": [],
   "name": "KDD Project 3 - Digit recognizer.ipynb",
   "provenance": [],
   "version": "0.3.2"
  },
  "kernelspec": {
   "display_name": "Python 3",
   "language": "python",
   "name": "python3"
  },
  "language_info": {
   "codemirror_mode": {
    "name": "ipython",
    "version": 3
   },
   "file_extension": ".py",
   "mimetype": "text/x-python",
   "name": "python",
   "nbconvert_exporter": "python",
   "pygments_lexer": "ipython3",
   "version": "3.6.5"
  }
 },
 "nbformat": 4,
 "nbformat_minor": 1
}
